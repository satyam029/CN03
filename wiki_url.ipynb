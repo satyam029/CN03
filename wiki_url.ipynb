{
 "cells": [
  {
   "cell_type": "code",
   "execution_count": 3,
   "metadata": {},
   "outputs": [
    {
     "name": "stdout",
     "output_type": "stream",
     "text": [
      "----------------Welcome----------------\n"
     ]
    },
    {
     "name": "stdin",
     "output_type": "stream",
     "text": [
      "Enter the page name to be searched-:  html\n"
     ]
    },
    {
     "name": "stdout",
     "output_type": "stream",
     "text": [
      "----The link for this page added succesfully----\n"
     ]
    },
    {
     "name": "stdin",
     "output_type": "stream",
     "text": [
      "--Press 1 to continue    Press 0 to terminate--\n",
      " 0\n"
     ]
    }
   ],
   "source": [
    "#importing required modules\n",
    "import sys\n",
    "import wikipediaapi\n",
    "#creating instance\n",
    "wiki_refrence=wikipediaapi.Wikipedia('en')\n",
    "\n",
    "#working function used for fecthing and saving the url in file\n",
    "def getWikipediaArticelUrl():\n",
    "    #user input\n",
    "    user_term = input(\"Enter the page name to be searched-: \")\n",
    "    #modification of user input\n",
    "    modified_user_term= user_term.replace(\" \", \"_\")\n",
    "    page_url = wiki_refrence.page(modified_user_term)\\\n",
    "    #opening the file\n",
    "    try:\n",
    "        f = open(\"wiki_url.txt\", \"a+\")\n",
    "    except OSError as err:\n",
    "        print(\"OS error: \",err)\n",
    "    #checking whether url exits or not\n",
    "    isexits = page_url.exists()\n",
    "    if isexits:\n",
    "        #getting full url\n",
    "        wiki_url = (page_url.fullurl)\n",
    "        f=open(\"wiki_url.txt\", \"r\")\n",
    "        #checking whethere the url already exits in file or not\n",
    "        if wiki_url in f.read():\n",
    "            print(\"----URL already exists---\")\n",
    "        else:\n",
    "        #storing the url\n",
    "            f2 = open(\"wiki_url.txt\", \"a+\")  # append mode\n",
    "            f2.write(wiki_url + \"\\n\")\n",
    "            f2.close()\n",
    "            print(\"----The link for this page added succesfully----\")\n",
    "\n",
    "    else:\n",
    "        print(\"----This wikipedia page does not exist----\")\n",
    "        \n",
    "print(\"----------------Welcome----------------\")\n",
    "\n",
    "while(1):\n",
    "    getWikipediaArticelUrl()\n",
    "    flag=input(\"--Press 1 to continue    Press 0 to terminate--\\n\")\n",
    "    if flag==\"0\":\n",
    "        break\n",
    "        \n",
    "    \n",
    "    \n"
   ]
  },
  {
   "cell_type": "code",
   "execution_count": null,
   "metadata": {},
   "outputs": [],
   "source": []
  }
 ],
 "metadata": {
  "kernelspec": {
   "display_name": "Python 3",
   "language": "python",
   "name": "python3"
  },
  "language_info": {
   "codemirror_mode": {
    "name": "ipython",
    "version": 3
   },
   "file_extension": ".py",
   "mimetype": "text/x-python",
   "name": "python",
   "nbconvert_exporter": "python",
   "pygments_lexer": "ipython3",
   "version": "3.7.6"
  }
 },
 "nbformat": 4,
 "nbformat_minor": 4
}
